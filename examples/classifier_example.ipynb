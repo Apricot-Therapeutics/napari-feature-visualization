{
 "cells": [
  {
   "cell_type": "markdown",
   "id": "bce6e2e1-cc12-4d5e-a2c3-b406f2861a8f",
   "metadata": {},
   "source": [
    "# Classifier example"
   ]
  },
  {
   "cell_type": "code",
   "execution_count": 1,
   "id": "ba00215e-6f37-4bb9-b7a0-7d9e265bcc90",
   "metadata": {},
   "outputs": [],
   "source": [
    "import numpy as np\n",
    "import napari_feature_visualization\n",
    "%gui qt5\n",
    "# Note that this Magics command needs to be run in a cell\n",
    "# before any of the Napari objects are instantiated to\n",
    "# ensure it has time to finish executing before they are\n",
    "# called\n",
    "import napari"
   ]
  },
  {
   "cell_type": "code",
   "execution_count": 2,
   "id": "ae9d59da-7504-4e22-9604-a01752306bae",
   "metadata": {},
   "outputs": [],
   "source": [
    "# Create a dummy label image\n",
    "shape = (1, 50, 50)\n",
    "lbl_img_np = np.zeros(shape).astype('uint16')\n",
    "lbl_img_np[0, 5:10, 5:10] = 1\n",
    "lbl_img_np[0, 15:20, 5:10] = 2\n",
    "lbl_img_np[0, 25:30, 5:10] = 3\n",
    "lbl_img_np[0, 5:10, 15:20] = 4\n",
    "lbl_img_np[0, 15:20, 15:20] = 5\n",
    "lbl_img_np[0, 25:30, 15:20] = 6\n",
    "lbl_img_np[0, 35:40, 15:20] = 7\n",
    "lbl_img_np[0, 35:40, 25:30] = 8\n",
    "lbl_img_np[0, 5:10, 35:40] = 9\n",
    "lbl_img_np[0, 25:30, 25:30] = 10\n",
    "lbl_img_np[0, 25:30, 35:40] = 11\n",
    "lbl_img_np[0, 35:40, 15:20] = 12"
   ]
  },
  {
   "cell_type": "code",
   "execution_count": 3,
   "id": "ab44d99f-320b-4a5d-83f2-a7477a765fe9",
   "metadata": {},
   "outputs": [
    {
     "name": "stdout",
     "output_type": "stream",
     "text": [
      "Running classifier\n",
      "Annotations split into 4 training and 3 test samples...\n",
      "F1 score on test set: 0.6666666666666666\n",
      "done\n"
     ]
    },
    {
     "name": "stderr",
     "output_type": "stream",
     "text": [
      "/Users/joel/Dropbox/Joel/PelkmansLab/Code/napari-feature-visualization/napari_feature_visualization/classifier.py:319: DataConversionWarning: A column-vector y was passed when a 1d array was expected. Please change the shape of y to (n_samples,), for example using ravel().\n",
      "  self.clf.fit(X_train, y_train)\n"
     ]
    },
    {
     "name": "stdout",
     "output_type": "stream",
     "text": [
      "Saving classifier\n"
     ]
    }
   ],
   "source": [
    "viewer = napari.Viewer()\n",
    "viewer.add_image(lbl_img_np)\n",
    "a = viewer.add_labels(lbl_img_np, name='labels')\n",
    "#viewer.window.add_plugin_dock_widget('napari-feature-visualization', widget_name ='initialize_classifier')\n",
    "viewer.window.add_plugin_dock_widget('napari-feature-visualization', widget_name ='load_classifier')\n",
    "viewer.window.activate()"
   ]
  },
  {
   "cell_type": "code",
   "execution_count": 4,
   "id": "2c537664-4f05-402a-a4b1-3106beaa45f0",
   "metadata": {},
   "outputs": [],
   "source": [
    "import pandas as pd\n",
    "# Dummy df for this test\n",
    "d = {'filename_prefix': ['file1', 'file1', 'file1', 'file1', 'file1', 'file2', 'file2', 'file2', 'file2', 'file2', 'file2'], \n",
    "     'test': [-100, 200, 300, 500, 900, 300, 400, 500, 600, 700, 800], \n",
    "     'label': [1, 2, 3, 4, 5, 6, 7, 8, 9, 10, 11], \n",
    "     'feature1': [100, 200, 300, 500, 900, 1001, 1100, 1200, 1300, 1400, 1500], \n",
    "     'feature2': [2200, 2100, 2000, 1500, 1300, 1001, 1100, 1200, 1300, 1400, 1500]}\n",
    "df1 = pd.DataFrame(data=d)\n",
    "df1.to_csv('df_dummy.csv', index=False)"
   ]
  },
  {
   "cell_type": "code",
   "execution_count": 5,
   "id": "f296be17-6556-4fca-bb5e-61a9a7916e6e",
   "metadata": {},
   "outputs": [],
   "source": [
    "d = {'filename_prefix': ['file1', 'file1', 'file1', 'file1', 'file1', 'file2', 'file2', 'file2', 'file2', 'file2', 'file2'], \n",
    "     'test': [-1000, 2000, 3000, 5000, 9000, 3000, 4000, 5000, 6000, 7000, 8000], \n",
    "     'label': [1, 2, 3, 4, 5, 6, 7, 8, 9, 10, 12], \n",
    "     'feature1': [1000, 2000, 3000, 5000, 9000, 10001, 11000, 12000, 13000, 14000, 15000], \n",
    "     'feature2': [22000, 21000, 20000, 15000, 13000, 10001, 11000, 12000, 13000, 14000, 15000]}\n",
    "df4 = pd.DataFrame(data=d)\n",
    "df4.to_csv('test_df_3.csv', index=False)"
   ]
  }
 ],
 "metadata": {
  "kernelspec": {
   "display_name": "Python 3",
   "language": "python",
   "name": "python3"
  },
  "language_info": {
   "codemirror_mode": {
    "name": "ipython",
    "version": 3
   },
   "file_extension": ".py",
   "mimetype": "text/x-python",
   "name": "python",
   "nbconvert_exporter": "python",
   "pygments_lexer": "ipython3",
   "version": "3.9.0"
  }
 },
 "nbformat": 4,
 "nbformat_minor": 5
}
