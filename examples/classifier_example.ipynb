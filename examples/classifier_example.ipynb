{
 "cells": [
  {
   "cell_type": "markdown",
   "id": "bce6e2e1-cc12-4d5e-a2c3-b406f2861a8f",
   "metadata": {},
   "source": [
    "# Classifier example"
   ]
  },
  {
   "cell_type": "code",
   "execution_count": 1,
   "id": "ba00215e-6f37-4bb9-b7a0-7d9e265bcc90",
   "metadata": {},
   "outputs": [],
   "source": [
    "import numpy as np\n",
    "import napari_feature_visualization\n",
    "#%gui qt5\n",
    "# It used to be necessary in napari < 0.4.8 to start qt5 manually. From 0.4.8 on, it's not necessary anymore.\n",
    "import napari"
   ]
  },
  {
   "cell_type": "code",
   "execution_count": 2,
   "id": "ae9d59da-7504-4e22-9604-a01752306bae",
   "metadata": {},
   "outputs": [],
   "source": [
    "# Create a dummy label image\n",
    "shape = (1, 50, 50)\n",
    "lbl_img_np = np.zeros(shape).astype('uint16')\n",
    "lbl_img_np[0, 5:10, 5:10] = 1\n",
    "lbl_img_np[0, 15:20, 5:10] = 2\n",
    "lbl_img_np[0, 25:30, 5:10] = 3\n",
    "lbl_img_np[0, 5:10, 15:20] = 4\n",
    "lbl_img_np[0, 15:20, 15:20] = 5\n",
    "lbl_img_np[0, 25:30, 15:20] = 6\n",
    "lbl_img_np[0, 35:40, 15:20] = 7\n",
    "lbl_img_np[0, 35:40, 25:30] = 8\n",
    "lbl_img_np[0, 5:10, 35:40] = 9\n",
    "lbl_img_np[0, 25:30, 25:30] = 10\n",
    "lbl_img_np[0, 25:30, 35:40] = 11\n",
    "lbl_img_np[0, 5:10, 25:30] = 12\n",
    "lbl_img_np[0, 15:20, 25:30] = 13\n",
    "lbl_img_np[0, 15:20, 35:40] = 14\n",
    "lbl_img_np[0, 35:40, 5:10] = 15\n",
    "lbl_img_np[0, 35:40, 35:40] = 16"
   ]
  },
  {
   "cell_type": "code",
   "execution_count": 3,
   "id": "ab44d99f-320b-4a5d-83f2-a7477a765fe9",
   "metadata": {},
   "outputs": [],
   "source": [
    "viewer = napari.Viewer()\n",
    "viewer.add_image(lbl_img_np, scale =(1, 0.3, 0.3))\n",
    "a = viewer.add_labels(lbl_img_np, name='labels', scale =(1, 0.3, 0.3))\n",
    "viewer.window.add_plugin_dock_widget('napari-feature-visualization', widget_name ='initialize_classifier')\n",
    "#viewer.window.add_plugin_dock_widget('napari-feature-visualization', widget_name ='load_classifier')\n",
    "viewer.window.activate()"
   ]
  },
  {
   "cell_type": "code",
   "execution_count": 5,
   "id": "2c537664-4f05-402a-a4b1-3106beaa45f0",
   "metadata": {},
   "outputs": [],
   "source": [
    "import pandas as pd\n",
    "# Dummy df for this test\n",
    "d = {'test': [-100, 200, 300, 500, 900, 300, 400, 500, 600, 700, 800, 300, 400, 500, 600, 700], \n",
    "     'label': [1, 2, 3, 4, 5, 6, 7, 8, 9, 10, 11, 12, 13, 14, 15, 16], \n",
    "     'feature1': [100, 200, 300, 500, 900, 1001, 1100, 1200, 1300, 1400, 1500, 1700, 1900, 2100, 2500, 3000], \n",
    "     'feature2': [2200, 2100, 2000, 1500, 1300, 1001, 1100, 1200, 1300, 1400, 1500, 900, 800, 700, 600, 500]}\n",
    "df1 = pd.DataFrame(data=d)\n",
    "df1.to_csv('test_df.csv', index=False)"
   ]
  },
  {
   "cell_type": "code",
   "execution_count": 6,
   "id": "f296be17-6556-4fca-bb5e-61a9a7916e6e",
   "metadata": {},
   "outputs": [],
   "source": [
    "d = {'test': [-1000, 2000, 3000, 5000, 9000, 3000, 4000, 5000, 6000, 7000, 8000], \n",
    "     'label': [1, 2, 3, 4, 5, 6, 7, 8, 9, 10, 12], \n",
    "     'feature1': [1000, 2000, 3000, 5000, 9000, 10001, 11000, 12000, 13000, 14000, 15000], \n",
    "     'feature2': [22000, 21000, 20000, 15000, 13000, 10001, 11000, 12000, 13000, 14000, 15000]}\n",
    "df4 = pd.DataFrame(data=d)\n",
    "df4.to_csv('df_dummy.csv', index=False)"
   ]
  },
  {
   "cell_type": "markdown",
   "id": "078e3558-863c-456c-b7d1-2d099101fdce",
   "metadata": {},
   "source": [
    "## Advanced Usage\n",
    "Set parameters directly from the notebook to save time"
   ]
  },
  {
   "cell_type": "code",
   "execution_count": 3,
   "id": "2356610c-254e-4057-9dd8-a2db8df9c7af",
   "metadata": {},
   "outputs": [],
   "source": [
    "# Initializing a classifier\n",
    "viewer = napari.Viewer()\n",
    "viewer.add_image(lbl_img_np, scale =(1, 0.3, 0.3))\n",
    "label_layer = viewer.add_labels(lbl_img_np, name='labels', scale =(1, 0.3, 0.3))\n",
    "label_layer.properties['feature_selection'] = 'feature1'\n",
    "label_layer.properties['DataFrame'] = 'test_df.csv' \n",
    "label_layer.properties['additional_features'] = 'feature2, test'\n",
    "viewer.window.add_plugin_dock_widget('napari-feature-visualization', widget_name ='initialize_classifier')\n",
    "viewer.window.activate()"
   ]
  },
  {
   "cell_type": "code",
   "execution_count": 4,
   "id": "aa43fc64-a9cf-4f8d-b26b-d04e74b85637",
   "metadata": {},
   "outputs": [],
   "source": [
    "# Loading a classifier\n",
    "viewer = napari.Viewer()\n",
    "viewer.add_image(lbl_img_np, scale =(1, 0.3, 0.3))\n",
    "label_layer = viewer.add_labels(lbl_img_np, name='labels', scale =(1, 0.3, 0.3))\n",
    "label_layer.properties['classifier_path'] = 'test.clf'\n",
    "label_layer.properties['DataFrame'] = 'test_df.csv' \n",
    "viewer.window.add_plugin_dock_widget('napari-feature-visualization', widget_name ='load_classifier')\n",
    "viewer.window.activate()"
   ]
  },
  {
   "cell_type": "markdown",
   "id": "1f7dd357-bb8b-4b58-bf9b-56740d1f9059",
   "metadata": {},
   "source": [
    "## How to apply a trained classifier to a dataframe"
   ]
  },
  {
   "cell_type": "code",
   "execution_count": null,
   "id": "fc15de04-39ef-47cb-ab9f-7ff415f47c8b",
   "metadata": {},
   "outputs": [],
   "source": [
    "import pandas as pd\n",
    "import pickle\n",
    "classifier_path = 'test.clf'\n",
    "data = pd.read_csv('test_df.csv')\n",
    "with open(classifier_path, 'rb') as f:\n",
    "    clf = pickle.loads(f.read())\n",
    "prediction_data = clf.predict(data)\n",
    "data['prediction'] = prediction_data\n",
    "data"
   ]
  }
 ],
 "metadata": {
  "kernelspec": {
   "display_name": "Python 3",
   "language": "python",
   "name": "python3"
  },
  "language_info": {
   "codemirror_mode": {
    "name": "ipython",
    "version": 3
   },
   "file_extension": ".py",
   "mimetype": "text/x-python",
   "name": "python",
   "nbconvert_exporter": "python",
   "pygments_lexer": "ipython3",
   "version": "3.9.0"
  }
 },
 "nbformat": 4,
 "nbformat_minor": 5
}
