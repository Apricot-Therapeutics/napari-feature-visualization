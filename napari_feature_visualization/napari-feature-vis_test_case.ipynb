{
 "cells": [
  {
   "cell_type": "markdown",
   "id": "df05b5f5-d16c-4782-9327-08f4b57225b5",
   "metadata": {},
   "source": [
    "# Build a napari plugin for feature visualization\n",
    "Use the cookiecutter template: https://github.com/napari/cookiecutter-napari-plugin  \n",
    "Magicgui for interface parts? https://napari.org/magicgui/  \n",
    "Napari plugin instructions: https://napari.org/plugins/stable/for_plugin_developers.html  \n",
    "Example project: https://github.com/jni/affinder/blob/393b0c666622fb65835ef056ed5233c2bd1034f2/affinder/affinder.py#L85-L97 \n",
    "Forum discussion: https://forum.image.sc/t/visualizing-feature-measurements-in-napari-using-colormaps-as-luts/51567/6  "
   ]
  },
  {
   "cell_type": "code",
   "execution_count": 1,
   "id": "d0116c56-e81a-4640-8032-7644c330ecde",
   "metadata": {},
   "outputs": [],
   "source": [
    "import numpy as np\n",
    "import napari_feature_visualization\n",
    "\n",
    "%gui qt5\n",
    "# Note that this Magics command needs to be run in a cell\n",
    "# before any of the Napari objects are instantiated to\n",
    "# ensure it has time to finish executing before they are\n",
    "# called\n",
    "import napari"
   ]
  },
  {
   "cell_type": "code",
   "execution_count": 2,
   "id": "1303bc85-98a4-4fc8-a502-37f191d48f81",
   "metadata": {},
   "outputs": [],
   "source": [
    "# Get the dummy label image from the ITK bug report and make a dummy dataframe to test this\n",
    "shape = (1, 50, 50)\n",
    "lbl_img_np = np.zeros(shape).astype('uint16')\n",
    "lbl_img_np[0, 5:10, 5:10] = 1\n",
    "lbl_img_np[0, 15:20, 5:10] = 2\n",
    "lbl_img_np[0, 25:30, 5:10] = 3\n",
    "lbl_img_np[0, 5:10, 15:20] = 4\n",
    "lbl_img_np[0, 15:20, 15:20] = 5\n",
    "lbl_img_np[0, 25:30, 15:20] = 6"
   ]
  },
  {
   "cell_type": "code",
   "execution_count": 7,
   "id": "16e648e4-7524-4c93-9038-59192d6b8dae",
   "metadata": {},
   "outputs": [
    {
     "name": "stdout",
     "output_type": "stream",
     "text": [
      "Passing assert\n",
      "Passing assert\n",
      "Passing assert\n",
      "Passing assert\n",
      "Passing assert\n"
     ]
    }
   ],
   "source": [
    "import pandas as pd\n",
    "# Dummy df for this test\n",
    "d = {'label': [1, 2, 3, 4, 5, 6], 'feature1': [100, 200, 300, 500, 900, 1001], 'feature2': [2200, 2100, 2000, 1500, 1300, 1001]}\n",
    "df = pd.DataFrame(data=d)\n",
    "df.to_csv('test_df.csv', index=False)"
   ]
  },
  {
   "cell_type": "code",
   "execution_count": 3,
   "id": "5143c2e2-ecf3-4c20-944e-632563ddbaed",
   "metadata": {},
   "outputs": [
    {
     "data": {
      "text/plain": [
       "<Labels layer 'labels' at 0x7ff4e503b5b0>"
      ]
     },
     "execution_count": 3,
     "metadata": {},
     "output_type": "execute_result"
    }
   ],
   "source": [
    "viewer = napari.Viewer()\n",
    "viewer.add_image(lbl_img_np)\n",
    "viewer.add_labels(lbl_img_np, name='labels')"
   ]
  }
 ],
 "metadata": {
  "kernelspec": {
   "display_name": "Python 3",
   "language": "python",
   "name": "python3"
  },
  "language_info": {
   "codemirror_mode": {
    "name": "ipython",
    "version": 3
   },
   "file_extension": ".py",
   "mimetype": "text/x-python",
   "name": "python",
   "nbconvert_exporter": "python",
   "pygments_lexer": "ipython3",
   "version": "3.9.0"
  }
 },
 "nbformat": 4,
 "nbformat_minor": 5
}
